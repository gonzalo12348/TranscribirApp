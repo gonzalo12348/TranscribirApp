{
  "nbformat": 4,
  "nbformat_minor": 0,
  "metadata": {
    "colab": {
      "provenance": [],
      "authorship_tag": "ABX9TyNHrVSDYLD6zzNVvLW/9JsN",
      "include_colab_link": true
    },
    "kernelspec": {
      "name": "python3",
      "display_name": "Python 3"
    },
    "language_info": {
      "name": "python"
    }
  },
  "cells": [
    {
      "cell_type": "markdown",
      "metadata": {
        "id": "view-in-github",
        "colab_type": "text"
      },
      "source": [
        "<a href=\"https://colab.research.google.com/github/gonzalo12348/TranscribirApp/blob/main/TranscribirApp.ipynb\" target=\"_parent\"><img src=\"https://colab.research.google.com/assets/colab-badge.svg\" alt=\"Open In Colab\"/></a>"
      ]
    },
    {
      "cell_type": "code",
      "execution_count": 8,
      "metadata": {
        "id": "QNgBPlgkJTC4",
        "colab": {
          "base_uri": "https://localhost:8080/"
        },
        "outputId": "49d6b887-1e87-4acd-b11f-7346096383e5"
      },
      "outputs": [
        {
          "output_type": "stream",
          "name": "stdout",
          "text": [
            "Looking in indexes: https://pypi.org/simple, https://us-python.pkg.dev/colab-wheels/public/simple/\n",
            "Collecting git+https://github.com/openai/whisper.git\n",
            "  Cloning https://github.com/openai/whisper.git to /tmp/pip-req-build-h5_ge7pg\n",
            "  Running command git clone --filter=blob:none --quiet https://github.com/openai/whisper.git /tmp/pip-req-build-h5_ge7pg\n",
            "  Resolved https://github.com/openai/whisper.git to commit b5851c6c40e753606765ac45b85b298e3ae9e00d\n",
            "  Installing build dependencies ... \u001b[?25l\u001b[?25hdone\n",
            "  Getting requirements to build wheel ... \u001b[?25l\u001b[?25hdone\n",
            "  Preparing metadata (pyproject.toml) ... \u001b[?25l\u001b[?25hdone\n",
            "Requirement already satisfied: tiktoken==0.3.1 in /usr/local/lib/python3.9/dist-packages (from openai-whisper==20230314) (0.3.1)\n",
            "Requirement already satisfied: numpy in /usr/local/lib/python3.9/dist-packages (from openai-whisper==20230314) (1.22.4)\n",
            "Requirement already satisfied: triton==2.0.0 in /usr/local/lib/python3.9/dist-packages (from openai-whisper==20230314) (2.0.0)\n",
            "Requirement already satisfied: tqdm in /usr/local/lib/python3.9/dist-packages (from openai-whisper==20230314) (4.65.0)\n",
            "Requirement already satisfied: ffmpeg-python==0.2.0 in /usr/local/lib/python3.9/dist-packages (from openai-whisper==20230314) (0.2.0)\n",
            "Requirement already satisfied: numba in /usr/local/lib/python3.9/dist-packages (from openai-whisper==20230314) (0.56.4)\n",
            "Requirement already satisfied: more-itertools in /usr/local/lib/python3.9/dist-packages (from openai-whisper==20230314) (9.1.0)\n",
            "Requirement already satisfied: torch in /usr/local/lib/python3.9/dist-packages (from openai-whisper==20230314) (2.0.0+cu118)\n",
            "Requirement already satisfied: future in /usr/local/lib/python3.9/dist-packages (from ffmpeg-python==0.2.0->openai-whisper==20230314) (0.18.3)\n",
            "Requirement already satisfied: regex>=2022.1.18 in /usr/local/lib/python3.9/dist-packages (from tiktoken==0.3.1->openai-whisper==20230314) (2022.10.31)\n",
            "Requirement already satisfied: requests>=2.26.0 in /usr/local/lib/python3.9/dist-packages (from tiktoken==0.3.1->openai-whisper==20230314) (2.27.1)\n",
            "Requirement already satisfied: filelock in /usr/local/lib/python3.9/dist-packages (from triton==2.0.0->openai-whisper==20230314) (3.10.7)\n",
            "Requirement already satisfied: cmake in /usr/local/lib/python3.9/dist-packages (from triton==2.0.0->openai-whisper==20230314) (3.25.2)\n",
            "Requirement already satisfied: lit in /usr/local/lib/python3.9/dist-packages (from triton==2.0.0->openai-whisper==20230314) (16.0.0)\n",
            "Requirement already satisfied: llvmlite<0.40,>=0.39.0dev0 in /usr/local/lib/python3.9/dist-packages (from numba->openai-whisper==20230314) (0.39.1)\n",
            "Requirement already satisfied: setuptools in /usr/local/lib/python3.9/dist-packages (from numba->openai-whisper==20230314) (67.6.1)\n",
            "Requirement already satisfied: sympy in /usr/local/lib/python3.9/dist-packages (from torch->openai-whisper==20230314) (1.11.1)\n",
            "Requirement already satisfied: networkx in /usr/local/lib/python3.9/dist-packages (from torch->openai-whisper==20230314) (3.0)\n",
            "Requirement already satisfied: jinja2 in /usr/local/lib/python3.9/dist-packages (from torch->openai-whisper==20230314) (3.1.2)\n",
            "Requirement already satisfied: typing-extensions in /usr/local/lib/python3.9/dist-packages (from torch->openai-whisper==20230314) (4.5.0)\n",
            "Requirement already satisfied: charset-normalizer~=2.0.0 in /usr/local/lib/python3.9/dist-packages (from requests>=2.26.0->tiktoken==0.3.1->openai-whisper==20230314) (2.0.12)\n",
            "Requirement already satisfied: certifi>=2017.4.17 in /usr/local/lib/python3.9/dist-packages (from requests>=2.26.0->tiktoken==0.3.1->openai-whisper==20230314) (2022.12.7)\n",
            "Requirement already satisfied: idna<4,>=2.5 in /usr/local/lib/python3.9/dist-packages (from requests>=2.26.0->tiktoken==0.3.1->openai-whisper==20230314) (3.4)\n",
            "Requirement already satisfied: urllib3<1.27,>=1.21.1 in /usr/local/lib/python3.9/dist-packages (from requests>=2.26.0->tiktoken==0.3.1->openai-whisper==20230314) (1.26.15)\n",
            "Requirement already satisfied: MarkupSafe>=2.0 in /usr/local/lib/python3.9/dist-packages (from jinja2->torch->openai-whisper==20230314) (2.1.2)\n",
            "Requirement already satisfied: mpmath>=0.19 in /usr/local/lib/python3.9/dist-packages (from sympy->torch->openai-whisper==20230314) (1.3.0)\n"
          ]
        }
      ],
      "source": [
        "!pip install git+https://github.com/openai/whisper.git "
      ]
    },
    {
      "cell_type": "code",
      "source": [
        "!sudo apt update && sudo apt install ffmpeg"
      ],
      "metadata": {
        "colab": {
          "base_uri": "https://localhost:8080/"
        },
        "id": "DVpkiiJXJ94J",
        "outputId": "497d8e76-d177-4d83-abe4-3b4312ac2ae5"
      },
      "execution_count": 9,
      "outputs": [
        {
          "output_type": "stream",
          "name": "stdout",
          "text": [
            "\u001b[33m\r0% [Working]\u001b[0m\r            \rHit:1 https://cloud.r-project.org/bin/linux/ubuntu focal-cran40/ InRelease\n",
            "\u001b[33m\r0% [Waiting for headers] [Waiting for headers] [Connecting to ppa.launchpad.net\u001b[0m\r                                                                               \rHit:2 http://archive.ubuntu.com/ubuntu focal InRelease\n",
            "\r                                                                               \rHit:3 http://security.ubuntu.com/ubuntu focal-security InRelease\n",
            "\u001b[33m\r0% [Waiting for headers] [Connecting to ppa.launchpad.net (185.125.190.52)] [Wa\u001b[0m\r                                                                               \rHit:4 http://archive.ubuntu.com/ubuntu focal-updates InRelease\n",
            "\u001b[33m\r                                                                               \r0% [Connecting to ppa.launchpad.net (185.125.190.52)] [Waiting for headers]\u001b[0m\r                                                                           \rHit:5 http://archive.ubuntu.com/ubuntu focal-backports InRelease\n",
            "\u001b[33m\r0% [Connecting to ppa.launchpad.net (185.125.190.52)] [Waiting for headers]\u001b[0m\r                                                                           \rHit:6 https://developer.download.nvidia.com/compute/cuda/repos/ubuntu2004/x86_64  InRelease\n",
            "Hit:7 http://ppa.launchpad.net/c2d4u.team/c2d4u4.0+/ubuntu focal InRelease\n",
            "Hit:8 http://ppa.launchpad.net/cran/libgit2/ubuntu focal InRelease\n",
            "Hit:9 http://ppa.launchpad.net/deadsnakes/ppa/ubuntu focal InRelease\n",
            "Hit:10 http://ppa.launchpad.net/graphics-drivers/ppa/ubuntu focal InRelease\n",
            "Hit:11 http://ppa.launchpad.net/ubuntugis/ppa/ubuntu focal InRelease\n",
            "Reading package lists... Done\n",
            "Building dependency tree       \n",
            "Reading state information... Done\n",
            "25 packages can be upgraded. Run 'apt list --upgradable' to see them.\n",
            "Reading package lists... Done\n",
            "Building dependency tree       \n",
            "Reading state information... Done\n",
            "ffmpeg is already the newest version (7:4.2.7-0ubuntu0.1).\n",
            "0 upgraded, 0 newly installed, 0 to remove and 25 not upgraded.\n"
          ]
        }
      ]
    },
    {
      "cell_type": "markdown",
      "source": [
        "## Ejecutar Modelo"
      ],
      "metadata": {
        "id": "U6JaFXsJKPC9"
      }
    },
    {
      "cell_type": "code",
      "source": [
        "import warnings\n",
        "warnings.filterwarnings(\"ignore\", message=\"FP16 is not supported on CPU; using FP32 instead\")"
      ],
      "metadata": {
        "id": "AKaOqkqgPOGR"
      },
      "execution_count": 1,
      "outputs": []
    },
    {
      "cell_type": "code",
      "source": [
        "import whisper\n",
        "\n",
        "model = whisper.load_model(\"medium\")\n",
        "result = model.transcribe(\"/content/The Truth About Confidence (and why you deserve it).mp3\", fp16=False)"
      ],
      "metadata": {
        "id": "x4_bUbKkKT5B"
      },
      "execution_count": 2,
      "outputs": []
    },
    {
      "cell_type": "code",
      "source": [
        "print(result[\"text\"])"
      ],
      "metadata": {
        "id": "DyYaZ7-VLyNX",
        "colab": {
          "base_uri": "https://localhost:8080/"
        },
        "outputId": "dc16c345-e679-4493-a93e-34d01e27a696"
      },
      "execution_count": 3,
      "outputs": [
        {
          "output_type": "stream",
          "name": "stdout",
          "text": [
            " Hi, I'm Kristen Becker. Welcome to the 5-Minute Success Mindset. Confidence is every person's birthright. It really gets a bad rap in our society. A lot of mixed messages are sent, and I want to change that with this episode. I personally had an interesting experience that really opened my eyes about confidence. I was on a date with someone, and I had recently finished a book that was being published. I was so excited, so I excitedly shared this with him. If you've ever written a book or just have an idea of how much work it entails, you know, this is like six months of your life. A lot of investment of you, and to finish it is just a wonderful feeling. It's a great accomplishment. So I was sharing this with him, and he sat back and he said, well, look at you, all full of yourself, in a very chiding way. And I thought, hmm, check please. You know, I was like, gosh, why would I want to date this guy that's uncomfortable with me being confident? However, this is a very common occurrence in our society that when you carry yourself confidently, express yourself confidently, and just generally be confident, you very well might get a lot of peer pressure and social pressure to not present yourself that way. And then this introduces fear, right? Fear of not being accepted. And you think, oh, well, yeah, maybe I better turn it down or, oh, gosh, I don't know what I was thinking, you know, feeling good about myself and being proud of myself. Oh, gosh, why did I do that? And it's just insane. Now, I'm a parent, and for those of you listening who are parents, I think you'll probably agree that we really do a lot of work to help our children understand how to be confident. It is vital to being able to do what you want to do in life and confidently go out there and achieve your goals and identify your goals and believe in yourself, right? It is so important. And the thing that a lot of people, I think, kind of bring up as an argument against confidence is humble, right? Oh, well, you should be humble. You should be more humble. Yes, there is this balance. There's a difference between being confident, which there's to be healthy, have a healthy level of confidence. There's just never anything wrong with that, right? I guess you could say, well, when someone's inconsiderate of others say they're throwing something around, not because they're truly confident and proud, but in order to make others feel less about themselves. That's an example of something where you could say, yeah, well, that's not good, right? Because then that's making other people feel bad about themselves. And I deeply believe that you can be confident and humble at the same time. I just really don't see any logical or valid argument against supporting people and being confident. And what I like to do for my part in this is when I see people speaking confidently, doing something confidently, I like to acknowledge that and encourage that because we get so much, I guess, pushback out there in the world that when you're that person that lets them know, all right, wow, you really delivered that talk in such a commanding way and it was just so compelling and great job. I really appreciated that. Anything you can do to help somebody else feel more comfortable expressing their confidence and being confident is not only a wonderful thing to do for other people, it also sends an incredibly powerful message to your subconscious mind that this is really healthy. This is something that you can do too that is okay for you to do. So I really just wanted to take this episode as an opportunity to open up a dialogue with you in your own mind because it's not a two way dialogue, is it? But start getting people thinking about, well, what is confidence? Do I want to be more confident? Do I deserve to be confident? Do I believe that everyone deserves to be confident? And what am I willing to do or do I want to do for my part in the world to help make that more widespread, to change some of the ideas around confidence and help people to feel comfortable being confident, expressing themselves confidently, going after their dreams confidently and also doing that myself. You know the drill. Go out and put it into practice in your own life. Please, please, please have an absolutely spectacular day and I will talk to you in the next episode. Be sure to subscribe to the 5-Minute Success Mindset on your favorite podcast streaming app and also be sure to find my videos for Smarter Manifesting on YouTube. It's YouTube forward slash at Kristen Becker and I'll put the link in the show notes.\n"
          ]
        }
      ]
    }
  ]
}